{
 "cells": [
  {
   "cell_type": "markdown",
   "metadata": {},
   "source": [
    "# Omnidata Docs\n",
    "\n",
    "> <strong>Quick links to docs</strong>: [ <a href='/omnidata-tools/pretrained.html'>Pretrained Models</a> ]  [ <a href='/omnidata-tools/starter_dataset.html'>Starter Dataset ]  [ <a href='//omnidata-tools/annotator_usage.html'>Annotator Demo</a> ] \n"
   ]
  },
  {
   "cell_type": "markdown",
   "metadata": {},
   "source": [
    "\n",
    "**This site is intended to be a wiki/documentation site for everything that we open-sourced from the paper.** There are three main folders: the annotator, utilities (dataloaders, download tools, pretrained models, etc), and a code dump of stuff from the paper that is just for reference. \n",
    "\n",
    "(Check out the main site for an overview of 'steerable datastes' and the 3D → 2D rendering pipeline).\n",
    "\n",
    "\n",
    "\n",
    "<br>\n",
    "\n",
    "#### Download the code\n",
    "If you want to see and edit the code, then you can clone the github and install with: \n",
    "\n",
    "```bash\n",
    "git clone https://github.com/EPFL-VILAB/omnidata-tools\n",
    "cd omnidata-tools\n",
    "pip install -e .    # this will install the python requirements (and also install the CLI)\n",
    "```\n",
    "This is probably the best option for you if you want to use the pretrained models, dataloaders, etc in other work.\n",
    "\n",
    "<br>\n",
    "\n",
    "\n",
    "#### Install just CLI tools (`omnitools`)\n",
    "If you are only interested in using the [CLI tools](/omnidata-tools/omnitools.html), you can install them with: `pip install omnidata-tools`. This might be preferable if you only want to quickly download the starter data, or if you just want a simple way to manipulate the vision datasets output by the annotator.\n",
    "\n",
    "_Note:_ The annotator can also be used with a [docker-based](/omnidata-tools/annotator_usage.html) CLI, but you don't need to use the annotator to use the starter dataset, pretrained models, or training code.\n",
    "\n",
    "\n",
    "<br>\n",
    "\n",
    "\n",
    "> ...were you looking for the [research paper](//omnidata.vision/#paper) or [project website](//omnidata.vision)? "
   ]
  },
  {
   "cell_type": "markdown",
   "metadata": {},
   "source": [
    "<!-- <img src=\"https://raw.githubusercontent.com/alexsax/omnidata-tools/main/docs/images/omnidata_front_page.jpg?token=ABHLE3LC3U64F2QRVSOBSS3BPED24\" alt=\"Website main page\" style='max-width: 100%;'/> -->"
   ]
  },
  {
   "cell_type": "markdown",
   "metadata": {},
   "source": []
  },
  {
   "cell_type": "code",
   "execution_count": null,
   "metadata": {},
   "outputs": [],
   "source": []
  }
 ],
 "metadata": {
  "kernelspec": {
   "display_name": "Python 3",
   "language": "python",
   "name": "python3"
  }
 },
 "nbformat": 4,
 "nbformat_minor": 2
}
