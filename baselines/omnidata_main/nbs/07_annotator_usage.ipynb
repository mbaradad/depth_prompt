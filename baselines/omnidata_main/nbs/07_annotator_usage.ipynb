{
 "cells": [
  {
   "cell_type": "markdown",
   "metadata": {},
   "source": [
    "# Using the Annotator\n",
    "\n",
    "> Parametrically resample 3D scans into vision datasets."
   ]
  },
  {
   "cell_type": "markdown",
   "metadata": {},
   "source": [
    "\n",
    "<video width=\"100%\" height=\"464\" playsinline=\"\" autoplay=\"\" center=\"\" loop=\"\" muted=\"\" class=\"video-bg\" id=\"video-bg\" poster=\"./loading.gif\">\n",
    "<source src=\"https://omnidata.vision/assets/videos/input_output.mp4\" type=\"video/mp4\" alt=\"HTML5 background video\">\n",
    "</video>\n",
    "\n",
    "The Omnidata annotator is a tool to parametrically resample 3D scans and output a vision dataset. It works through a simple command-line interface (CLI) and to simplify installation we provide a public [Dockerized implementation](https://github.com/EPFL-VILAB/omnidata/tree/main/omnidata_annotator#installation). The [source code](https://github.com/EPFL-VILAB/omnidata/tree/main/omnidata_annotator) is available on github.\n",
    "\n",
    "\n",
    "## Demo\n",
    "\n",
    "The [demo annotator folder](https://github.com/EPFL-VILAB/omnidata/tree/main/omnidata_annotator#quickstart-run-demo) shows how to generate a dataset from a single building (in the Habitat-Matterport 3D dataset).\n",
    "\n",
    "<img src=\"https://omnidata.vision/assets/main_page/dataset_design_1.jpg\" alt=\"drawing\" style='max-width: 100%;'/>\n",
    "\n",
    "Head over to the [annotator folder](https://github.com/EPFL-VILAB/omnidata/tree/main/omnidata_annotator#quickstart-run-demo) to try it out!"
   ]
  },
  {
   "cell_type": "markdown",
   "metadata": {},
   "source": [
    "### What next: handling annotator outputs\n",
    "\n",
    "#### Dataloaders\n",
    "Once you've generated some data, you'll probably want to distribute it and/or use it for training your own models. We've released some [generic PyTorch dataloaders](/omnidata-annotator/dataloaders.html) that should make it easy to use the generated data for training. \n",
    "\n",
    "\n",
    "<br>\n",
    "\n",
    "#### omnitools.upload & omnitools.download\n",
    "We also provide some CLI utilities via the `omnitools` command, to help with efficiently moving and releasing data. In particular, `omnitools.upload` is for compressing & uploading the data while `omnitools.download` does downloadling, validation, and decompression. More info on the omnitools CLI can be found [here](/omnidata-annotator/omnitools.html)\n"
   ]
  },
  {
   "cell_type": "markdown",
   "metadata": {},
   "source": [
    "## More documentation\n",
    "More documentation for the annotator is [available here](/omnidata-tools/annotator_documentation.html)"
   ]
  },
  {
   "cell_type": "markdown",
   "metadata": {},
   "source": []
  }
 ],
 "metadata": {
  "kernelspec": {
   "display_name": "Python 3",
   "language": "python",
   "name": "python3"
  }
 },
 "nbformat": 4,
 "nbformat_minor": 2
}
