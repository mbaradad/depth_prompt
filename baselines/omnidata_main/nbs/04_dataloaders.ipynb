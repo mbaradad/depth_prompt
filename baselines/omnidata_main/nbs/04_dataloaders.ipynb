{
 "cells": [
  {
   "cell_type": "markdown",
   "metadata": {},
   "source": [
    "# Dataloaders \n",
    "\n",
    "> TODO: `omnitools` includes a PyTorch dataloader that should work out-of-the-box with annotations from the Omnidata annotator"
   ]
  },
  {
   "cell_type": "markdown",
   "metadata": {},
   "source": [
    "## Documentation\n",
    "\n",
    "**Note:**: You could even put the implementation itself right here in the notebook. How to do that?\n",
    "\n",
    "First: add `#default_exp torch.dataloader` to the top of the notebook. Then, any code cells marked at the top with `#export` will be written to `omnidata-tools/torch/dataloader.py`. The notebook will also be converted to documentation (same as it currently is!). So it doesn't require writing separate docs. "
   ]
  },
  {
   "cell_type": "code",
   "execution_count": null,
   "metadata": {},
   "outputs": [],
   "source": []
  }
 ],
 "metadata": {
  "kernelspec": {
   "display_name": "Python 3",
   "language": "python",
   "name": "python3"
  }
 },
 "nbformat": 4,
 "nbformat_minor": 4
}
