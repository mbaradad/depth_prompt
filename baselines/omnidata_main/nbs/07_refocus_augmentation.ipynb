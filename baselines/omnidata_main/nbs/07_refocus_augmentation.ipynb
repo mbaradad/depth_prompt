{
 "cells": [
  {
   "cell_type": "markdown",
   "metadata": {},
   "source": [
    "# Annotator Source Code \n",
    "\n",
    "> Please see the GitHub repository here: [https://github.com/EPFL-VILAB/omnidata/tree/main/omnidata_annotator](https://github.com/EPFL-VILAB/omnidata/tree/main/omnidata_annotator)"
   ]
  },
  {
   "cell_type": "code",
   "execution_count": null,
   "metadata": {},
   "outputs": [],
   "source": []
  }
 ],
 "metadata": {
  "kernelspec": {
   "display_name": "Python 3",
   "language": "python",
   "name": "python3"
  }
 },
 "nbformat": 4,
 "nbformat_minor": 4
}
